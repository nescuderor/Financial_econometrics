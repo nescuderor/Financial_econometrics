{
 "cells": [
  {
   "cell_type": "markdown",
   "metadata": {},
   "source": [
    "---\n",
    "# Financial Econometrics I\n",
    "#### Introduction to R Markdown and Jupyter: Time series simulation and real-world data manipulation\n",
    "\n",
    "by Jozef Barunik and Josef Kurka\n",
    "\n",
    "#### Seminar I: Summer Semester 2022/2023\n",
    "___\n",
    "\n",
    "#### Jupyter\n",
    "\n",
    "Jupyter Notebooks allow users to create interactive documents containing live codes, figures, equations, and much more. Jupyter supports over 40 programming languages including Python, Julia, R. Summary of all supported programming languages can be found on [GitHub](https://github.com/jupyter/jupyter/wiki/Jupyter-kernels). Throughout this course we will be working with R and R Markdown via Jupyter Notebooks. \n",
    "\n",
    "You can try Jupyter online without installing: https://jupyter.org/try\n",
    "\n",
    "To run it after the installation (instruction in mail) see: https://jupyter.readthedocs.io/en/latest/running.html\n",
    "\n",
    "---\n",
    "## Starting with Jupyter\n",
    "\n",
    "### Useful short-cuts\n",
    "\n",
    "The most important keyboard shortcuts are ```Enter```, which enters edit mode, and ```Esc```, which enters command mode.\n",
    "\n",
    "```Esc``` will take you into command mode where you can navigate around your notebook with arrow keys. When in command mode, press:\n",
    "\n",
    "*    `A` to insert a new cell above the current cell, B to insert a new cell below.\n",
    "*    `M` to change the current cell to Markdown, Y to change it back to code\n",
    "*    `D + D` (press the key twice) to delete the current cell\n",
    "* `Shift + J` or `Shift + Down` to select cell below. Press multiple times to extend the selection.\n",
    "* `Shift + K` or `Shift + Up` to select cell below. Again, press multiple times to extend the selection.\n",
    "* `Shift + M` to merge selected cells. If only one cell is selected, it will be merged with the cell below.\n",
    "\n",
    "In edit mode use:\n",
    "\n",
    "* `Ctrl + Shift + -` to split the current cell into two from where your cursor is.\n",
    "* `Shift + Tab` will show you the Docstring (documentation) for the the object you have just typed in a code cell\n",
    "* `Shift + Enter` to evaluate a cell and advance to the next one\n",
    "* `Ctrl + Enter` to evaluate a cell without advancing\n",
    "* `Alt + Enter` (`Option + Enter` on Mac) to evaluate a cell and insert empty one below\n",
    "___\n"
   ]
  },
  {
   "cell_type": "markdown",
   "metadata": {},
   "source": [
    "library(repr)\n",
    "options(repr.plot.width = 10, repr.plot.height = 8)"
   ]
  },
  {
   "cell_type": "markdown",
   "metadata": {},
   "source": [
    "3 + 2"
   ]
  },
  {
   "cell_type": "code",
   "execution_count": 4,
   "metadata": {},
   "outputs": [
    {
     "data": {
      "text/html": [
       "1"
      ],
      "text/latex": [
       "1"
      ],
      "text/markdown": [
       "1"
      ],
      "text/plain": [
       "[1] 1"
      ]
     },
     "metadata": {},
     "output_type": "display_data"
    },
    {
     "data": {
      "text/html": [
       "6"
      ],
      "text/latex": [
       "6"
      ],
      "text/markdown": [
       "6"
      ],
      "text/plain": [
       "[1] 6"
      ]
     },
     "metadata": {},
     "output_type": "display_data"
    }
   ],
   "source": [
    "3 - 2\n",
    "\n",
    "3 * 2"
   ]
  },
  {
   "cell_type": "code",
   "execution_count": null,
   "metadata": {},
   "outputs": [],
   "source": []
  },
  {
   "cell_type": "code",
   "execution_count": null,
   "metadata": {},
   "outputs": [],
   "source": [
    "3 ^ 2\n",
    "\n",
    "3 ** 2"
   ]
  },
  {
   "cell_type": "markdown",
   "metadata": {},
   "source": [
    "### Text editing\n",
    "If you switch cell from code to Markdown mode (use `M` to do so) you can use Jupyter as a text editor. \n",
    "\n",
    "Create mathematical formulas by using the symbol \\$. <br>\n",
    "\n",
    "If you want to insert simple formulas into text, e.g. $y=x^2$, use a single \\$. \n",
    "\n",
    "When creating more elaborate formulas, that require separate line, then use \\$\\$.  \n",
    "\n",
    "$$ y = \\sum_{i=1}^{n} \\frac{x_{i}^2}{(x_{i}-\\overline{x})^2} $$ \n",
    "\n",
    "\\* text \\* produces *text in italics*, \\*\\* text \\*\\* produces **bold text**.\n",
    "\n",
    "Headers are created using the symbol \\#, where amount of \\# indicates rank of the header.\n",
    "\n",
    "Use `Y` to switch the cell from Markdown to Code mode.\n"
   ]
  },
  {
   "cell_type": "markdown",
   "metadata": {},
   "source": [
    "___\n",
    "### Time series plotting\n",
    "\n",
    "Begin with creating a vector of data."
   ]
  },
  {
   "cell_type": "code",
   "execution_count": null,
   "metadata": {},
   "outputs": [],
   "source": [
    "x <- seq(1, 20)\n",
    "print(x)"
   ]
  },
  {
   "cell_type": "markdown",
   "metadata": {},
   "source": [
    "Create a vector of data with step."
   ]
  },
  {
   "cell_type": "code",
   "execution_count": null,
   "metadata": {},
   "outputs": [],
   "source": [
    "y <- seq(1, 20, by = 2)\n",
    "print(y)"
   ]
  },
  {
   "cell_type": "markdown",
   "metadata": {},
   "source": [
    "Now plot $x^2$."
   ]
  },
  {
   "cell_type": "code",
   "execution_count": null,
   "metadata": {},
   "outputs": [],
   "source": [
    "plot(x ^ 2)"
   ]
  },
  {
   "cell_type": "markdown",
   "metadata": {},
   "source": [
    "The plot function uses point plot by default. In many cases, we would rather like to plot lines or other types of plot instead of points. <br>\n",
    "Look into help for *plot* function to find out how to produce a line plot. You can get help by typing \"?\" \"function name\" into the R-code field."
   ]
  },
  {
   "cell_type": "markdown",
   "metadata": {},
   "source": [
    "Plot a sine wave."
   ]
  },
  {
   "cell_type": "code",
   "execution_count": null,
   "metadata": {},
   "outputs": [],
   "source": [
    "t <- seq(0, 10, by = 1)\n",
    "plot(t, sin(t), type = 'l')"
   ]
  },
  {
   "cell_type": "markdown",
   "metadata": {},
   "source": [
    "Plotting a function\n",
    "\n",
    "We will plot\n",
    "$$ y = \\mid 2^x - x^2 \\mid, $$\n",
    "\n",
    "where x is a sequence of even numbers from -10 to 10.\n",
    "\n",
    "Plot y on the $y$ axis, and x on the $x$ axis. Set the plot type to **line**, color to **red**, leave the axis labels empty, and set the plot title to **Completely irrelevant plot**."
   ]
  },
  {
   "cell_type": "markdown",
   "metadata": {},
   "source": [
    "### Time series simulation\n",
    "\n",
    "Let's move closer to financial time series. Simulate 100 observations of Gaussian White Noise.\n"
   ]
  },
  {
   "cell_type": "code",
   "execution_count": null,
   "metadata": {},
   "outputs": [],
   "source": [
    "gwn <- rnorm(100, mean = 0)"
   ]
  },
  {
   "cell_type": "code",
   "execution_count": null,
   "metadata": {},
   "outputs": [],
   "source": [
    "plot(gwn, type = 'l')"
   ]
  },
  {
   "cell_type": "markdown",
   "metadata": {},
   "source": [
    "\n",
    "\n",
    "Let's plot realization of Gaussian White Noise of length 1000.\n"
   ]
  },
  {
   "cell_type": "code",
   "execution_count": null,
   "metadata": {},
   "outputs": [],
   "source": [
    "GWN <- rnorm(1000)\n",
    "plot(GWN, col = 'blue', ylab = NA, xlab = NA, pch = 16)"
   ]
  },
  {
   "cell_type": "markdown",
   "metadata": {},
   "source": [
    "If you tell *plot* function that your data is a time series, it will provide a line plot by default."
   ]
  },
  {
   "cell_type": "code",
   "execution_count": null,
   "metadata": {},
   "outputs": [],
   "source": [
    "plot.ts(GWN, col = 'blue')"
   ]
  },
  {
   "cell_type": "markdown",
   "metadata": {},
   "source": [
    "<br>\n",
    "Change color to red, change label of axis y to magnitude, add a twice enlarged title \"Gaussian White Noise\".\n",
    "<br>"
   ]
  },
  {
   "cell_type": "markdown",
   "metadata": {},
   "source": [
    "<br>\n",
    "Next, simulate an AR(1) process\n",
    "$$r_{t} = \\phi_{0} + \\phi_{1} r_{t-1} + \\epsilon_{t}, $$ <br>\n",
    "where $\\epsilon_{t}$ is assumed to be white noise $\\epsilon_{t} \\sim N(0,\\sigma^2)$.\n",
    "First set $\\phi$ parameters and generate white noise $\\epsilon$ process."
   ]
  },
  {
   "cell_type": "code",
   "execution_count": null,
   "metadata": {},
   "outputs": [],
   "source": [
    "phi0 <- 0.2\n",
    "phi1 <- 0.9\n",
    "eps <- rnorm(501)\n",
    "ar1 <- vector()\n",
    "ar1[1] <- phi0"
   ]
  },
  {
   "cell_type": "markdown",
   "metadata": {},
   "source": [
    "Now everything is prepared, we can iteratively add values to the ar1 vector."
   ]
  },
  {
   "cell_type": "code",
   "execution_count": null,
   "metadata": {},
   "outputs": [],
   "source": [
    "for (t in 2:length(eps)){\n",
    "    ar1[t] <- phi0 + phi1 * ar1[t - 1] + eps[t]\n",
    "}"
   ]
  },
  {
   "cell_type": "markdown",
   "metadata": {},
   "source": [
    "Plot the generated time-series."
   ]
  },
  {
   "cell_type": "code",
   "execution_count": null,
   "metadata": {},
   "outputs": [],
   "source": [
    "options(repr.plot.width = 15, repr.plot.height = 10)\n",
    "par(mfrow = c(1, 2))\n",
    "plot.ts(ar1, ylab = NA, main = \"AR(1)\")\n",
    "plot.ts(GWN, col = 'blue', main = 'White noise')\n"
   ]
  },
  {
   "cell_type": "markdown",
   "metadata": {},
   "source": [
    "#### Exercise: Simulation\n",
    "\n",
    "Now generate an AR(2) process\n",
    "\n",
    "How do we define an AR(2) process?\n",
    "\n",
    "i) $x_t = \\alpha + \\beta_1 x_{t - 1} + \\beta_2 \\epsilon_{t - 1} + \\epsilon_t$\n",
    "\n",
    "ii) $x_t = \\alpha + \\beta_1 x_{t - 1} + \\beta_2 x_{t - 2} + \\epsilon_t$\n",
    "\n",
    "iii) $x_t = \\alpha + \\beta_1 \\epsilon_{t - 1} + \\beta_2 \\epsilon_{t - 2} + \\epsilon_t$"
   ]
  },
  {
   "cell_type": "code",
   "execution_count": null,
   "metadata": {},
   "outputs": [],
   "source": [
    "par(mfrow = c(1, 2))\n",
    "plot.ts(ar1, ylab = NA, main = \"AR(1)\")\n",
    "plot.ts(ar2, ylab = NA, main = \"AR(2)\", col = 'blue')"
   ]
  },
  {
   "cell_type": "markdown",
   "metadata": {},
   "source": [
    "Try changing the parameters and see, how the processes react.\n",
    "___"
   ]
  },
  {
   "cell_type": "markdown",
   "metadata": {},
   "source": [
    "We can also simulate more elaborate processes, for example try ARCH(1). \n",
    "<br>\n",
    "$$a_{t}=\\sigma_{t} \\epsilon_{t}, $$\n",
    "$$\\sigma_{t}^2 = \\alpha_{0} + \\alpha_{1} a_{t-1}^2, $$\n",
    "where $\\alpha_{0} > 0$ and $\\alpha_{1}\\geq 0$. <br>\n",
    "Again generate parameters first, and $\\epsilon$ first."
   ]
  },
  {
   "cell_type": "code",
   "execution_count": null,
   "metadata": {},
   "outputs": [],
   "source": [
    "alpha0 <- 0.1\n",
    "alpha1 <- 0.5\n",
    "eps <- rnorm(501)\n",
    "a <- vector()\n",
    "sigma <- vector()\n",
    "sigma[1] <- var(eps)\n",
    "a[1] <- sqrt(sigma[1]) * eps[1]"
   ]
  },
  {
   "cell_type": "markdown",
   "metadata": {},
   "source": [
    "Now we can again iteratively write to the vectors using the initial values sigma[1] and a[1]."
   ]
  },
  {
   "cell_type": "code",
   "execution_count": null,
   "metadata": {},
   "outputs": [],
   "source": [
    "for (t in 2:length(eps)){\n",
    "    sigma[t] <- alpha0 + alpha1 * a[t - 1]^2\n",
    "    a[t] <- sqrt(sigma[t]) * eps[t]\n",
    "}"
   ]
  },
  {
   "cell_type": "markdown",
   "metadata": {},
   "source": [
    "Now we have time series of simulated \"returns\" and simulated volatility. We can plot them next to each other using *par*."
   ]
  },
  {
   "cell_type": "code",
   "execution_count": null,
   "metadata": {},
   "outputs": [],
   "source": [
    "par(mfrow = c(1, 2))\n",
    "plot.ts(a,main=\"returns\",ylab=NA,col='blue')\n",
    "plot.ts(sigma,main=\"volatility\",ylab=NA,col='red')"
   ]
  },
  {
   "cell_type": "markdown",
   "metadata": {},
   "source": [
    "Or we can divide the figure horizontaly."
   ]
  },
  {
   "cell_type": "code",
   "execution_count": null,
   "metadata": {},
   "outputs": [],
   "source": [
    "par(mfrow = c(2, 1))\n",
    "plot.ts(a, main = \"returns\", ylab = NA, col = 'blue')\n",
    "plot.ts(sigma, main = \"volatility\", ylab = NA, col = 'red')"
   ]
  },
  {
   "cell_type": "markdown",
   "metadata": {},
   "source": [
    "### Working with real-world financial data\n",
    "\n",
    "Nowadays, it is not as easy as it used to be to download financial data directly via R. Probably the most complete tool in that respect is package [BatchGetSymbols](https://cran.r-project.org/web/packages/BatchGetSymbols/BatchGetSymbols.pdf). A little bit more limited supply of data is offered by [quantmod](https://cran.r-project.org/web/packages/quantmod/quantmod.pdf) package. However, it suits our today's purpose well as it is more intuitive to use.\n",
    "\n",
    "To install packages in R, use install.packages(\"Package_name\") command. After starting R, you need to always load already installed packages using library(\"Package_name\") before using them."
   ]
  },
  {
   "cell_type": "code",
   "execution_count": null,
   "metadata": {},
   "outputs": [],
   "source": [
    "# install.packages(\"quantmod\")\n",
    "library(\"quantmod\")"
   ]
  },
  {
   "cell_type": "markdown",
   "metadata": {},
   "source": [
    "#### S&P 500 index\n",
    "\n",
    "Let's start by downloading prices of the S&P 500 index."
   ]
  },
  {
   "cell_type": "code",
   "execution_count": null,
   "metadata": {},
   "outputs": [],
   "source": [
    "getSymbols('SP500', src = 'FRED', return.class = 'xts')\n",
    "head(SP500)"
   ]
  },
  {
   "cell_type": "markdown",
   "metadata": {},
   "source": [
    "<br>\n",
    "Plot the prices of S&P 500."
   ]
  },
  {
   "cell_type": "code",
   "execution_count": null,
   "metadata": {},
   "outputs": [],
   "source": [
    "plot(as.Date(index(SP500)), SP500, type = 'l', xlab = 'Year',\n",
    "     ylab = 'price', main = 'S&P 500')"
   ]
  },
  {
   "cell_type": "markdown",
   "metadata": {},
   "source": [
    "In most econometric applications, we are more interested in returns than prices themselves. Let's compute logarithmic returns of S&P 500, and plot them."
   ]
  },
  {
   "cell_type": "code",
   "execution_count": null,
   "metadata": {},
   "outputs": [],
   "source": [
    "lretSP500 <- diff(log(SP500), 1)\n",
    "plot(as.Date(index(lretSP500)), lretSP500, type = 'l', xlab = 'Year',\n",
    "     ylab = 'returns', main = 'S&P 500')"
   ]
  },
  {
   "cell_type": "code",
   "execution_count": null,
   "metadata": {},
   "outputs": [],
   "source": [
    "returnsSP <- diff(SP500)/lag(SP500)\n",
    "plot(as.Date(index(returnsSP)), returnsSP, type = 'l', xlab = 'Year',\n",
    "     ylab = 'returns', main = 'S&P 500')"
   ]
  },
  {
   "cell_type": "markdown",
   "metadata": {},
   "source": [
    "Now, we download the data of e.g. Microsoft"
   ]
  },
  {
   "cell_type": "code",
   "execution_count": null,
   "metadata": {},
   "outputs": [],
   "source": [
    "getSymbols('MSFT')"
   ]
  },
  {
   "cell_type": "markdown",
   "metadata": {},
   "source": [
    "We will be interested only in data from years 2010-2015."
   ]
  },
  {
   "cell_type": "code",
   "execution_count": null,
   "metadata": {},
   "outputs": [],
   "source": [
    "MSFT <- MSFT[index(MSFT) > as.Date(\"2009-12-31\") & \n",
    "             index(MSFT) < as.Date(\"2016-01-01\")]"
   ]
  },
  {
   "cell_type": "code",
   "execution_count": null,
   "metadata": {},
   "outputs": [],
   "source": [
    "plot(as.Date(index(MSFT)), MSFT, type = 'l', xlab = 'Year', \n",
    "     ylab = 'price', main = 'Microsoft')"
   ]
  },
  {
   "cell_type": "markdown",
   "metadata": {},
   "source": [
    "Why does that not work? Let's examine the data."
   ]
  },
  {
   "cell_type": "code",
   "execution_count": null,
   "metadata": {},
   "outputs": [],
   "source": [
    "head(MSFT)"
   ]
  },
  {
   "cell_type": "markdown",
   "metadata": {},
   "source": [
    "<br>\n",
    "Unlike S&P 500, calling for Microsoft prices gives us more columns. Plot the closing price."
   ]
  },
  {
   "cell_type": "code",
   "execution_count": null,
   "metadata": {},
   "outputs": [],
   "source": [
    "plot(as.Date(index(MSFT)), MSFT[, 'MSFT.Close'], type = 'l',\n",
    "     xlab = 'Year', ylab = 'price', main = 'Microsoft')"
   ]
  },
  {
   "cell_type": "markdown",
   "metadata": {},
   "source": [
    "And trading volume."
   ]
  },
  {
   "cell_type": "code",
   "execution_count": null,
   "metadata": {},
   "outputs": [],
   "source": [
    "plot(as.Date(index(MSFT)), MSFT[, 'MSFT.Volume'], type = 'h', \n",
    "     xlab = 'Year', ylab = 'Volume', main = 'Microsoft', col = 'salmon')"
   ]
  },
  {
   "cell_type": "markdown",
   "metadata": {},
   "source": [
    "You can use R also to find out the latest quotes of stock prices, exchange rates, and more. Just use the getQuote function."
   ]
  },
  {
   "cell_type": "code",
   "execution_count": null,
   "metadata": {},
   "outputs": [],
   "source": [
    "getQuote(\"MSFT\")"
   ]
  },
  {
   "cell_type": "code",
   "execution_count": null,
   "metadata": {},
   "outputs": [],
   "source": [
    "getQuote(\"EURCZK=X\")\n",
    "getQuote(\"EURUSD=X\")\n",
    "getQuote(\"EURIRR=X\")"
   ]
  },
  {
   "cell_type": "markdown",
   "metadata": {},
   "source": [
    "### Descriptive statistics for S&P 500"
   ]
  },
  {
   "cell_type": "markdown",
   "metadata": {},
   "source": [
    "Let's work with S&P 500 logarithmic returns."
   ]
  },
  {
   "cell_type": "code",
   "execution_count": null,
   "metadata": {},
   "outputs": [],
   "source": [
    "SP500 <- diff(log(SP500))"
   ]
  },
  {
   "cell_type": "code",
   "execution_count": null,
   "metadata": {},
   "outputs": [],
   "source": [
    "hist(SP500, 50)"
   ]
  },
  {
   "cell_type": "code",
   "execution_count": null,
   "metadata": {},
   "outputs": [],
   "source": [
    "mean(SP500)"
   ]
  },
  {
   "cell_type": "markdown",
   "metadata": {},
   "source": [
    "why it does not work?"
   ]
  },
  {
   "cell_type": "code",
   "execution_count": null,
   "metadata": {},
   "outputs": [],
   "source": [
    "head(SP500)\n"
   ]
  },
  {
   "cell_type": "markdown",
   "metadata": {},
   "source": [
    "We need to first have data ready"
   ]
  },
  {
   "cell_type": "code",
   "execution_count": null,
   "metadata": {},
   "outputs": [],
   "source": [
    "head(na.omit(SP500))"
   ]
  },
  {
   "cell_type": "code",
   "execution_count": null,
   "metadata": {},
   "outputs": [],
   "source": [
    "m <- mean(na.omit(SP500))\n",
    "std <- sd(na.omit(SP500))\n",
    "\n",
    "print(c(m, std))"
   ]
  },
  {
   "cell_type": "code",
   "execution_count": null,
   "metadata": {},
   "outputs": [],
   "source": [
    "hist(SP500, 100, prob = TRUE)\n",
    "x <- seq(-.1, .1 , 0.001)\n",
    "lines(x, dnorm(x, mean = m, sd = std), lwd = 2, col = 'darkblue')"
   ]
  },
  {
   "cell_type": "markdown",
   "metadata": {},
   "source": [
    "### Fitting Stable distributions"
   ]
  },
  {
   "cell_type": "code",
   "execution_count": null,
   "metadata": {},
   "outputs": [],
   "source": [
    "#install.packages(\"stabledist\")\n",
    "library(\"stabledist\")"
   ]
  },
  {
   "cell_type": "markdown",
   "metadata": {},
   "source": [
    "There are many packages with great help, you just need to search\n",
    "\n",
    "[Stable distribution](https://en.wikipedia.org/wiki/Stable_distribution)\n",
    "\n",
    "Following help of stabledist package, we can quickly estimate fit of SP500 data"
   ]
  },
  {
   "cell_type": "code",
   "execution_count": null,
   "metadata": {},
   "outputs": [],
   "source": [
    "set.seed(1953)\n",
    "r <- rstable(n = 1000, alpha = 1.9, beta = 0.3)"
   ]
  },
  {
   "cell_type": "code",
   "execution_count": null,
   "metadata": {},
   "outputs": [],
   "source": [
    "plot(r, type = \"l\", main = \"stable: alpha=1.9 beta=0.3\", \n",
    "     col = \"steelblue\")"
   ]
  },
  {
   "cell_type": "code",
   "execution_count": null,
   "metadata": {},
   "outputs": [],
   "source": [
    "hist(r, n = 25, probability = TRUE, border = \"white\", \n",
    "     col = \"steelblue\")\n",
    "x <- seq(-5, 5, 0.01)\n",
    "lines(x, dstable(x, alpha = 1.9, beta = 0.3, tol= 1e-3), lwd = 2)\n",
    "m <- mean(r)\n",
    "std <- sd(r)\n",
    "lines(x, dnorm(x, mean = m, sd = std), lwd = 2, col = 'red')"
   ]
  },
  {
   "cell_type": "code",
   "execution_count": null,
   "metadata": {},
   "outputs": [],
   "source": [
    "plot(ecdf(r), do.points=TRUE, col = \"steelblue\",\n",
    "     main = \"Probabilities:  ecdf(rstable(1000,..)) and true cdf F()\")\n",
    "rug(r)\n",
    "lines(x, pstable(q = x, alpha = 1.9, beta = 0.3), \n",
    "      col = \"#0000FF88\", lwd = 2.5)\n"
   ]
  },
  {
   "cell_type": "markdown",
   "metadata": {},
   "source": [
    "### Now real data"
   ]
  },
  {
   "cell_type": "markdown",
   "metadata": {},
   "source": [
    "First we need to find parameters"
   ]
  },
  {
   "cell_type": "code",
   "execution_count": null,
   "metadata": {},
   "outputs": [],
   "source": [
    "#install.packages(\"StableEstim\")\n",
    "library(\"StableEstim\")\n"
   ]
  },
  {
   "cell_type": "markdown",
   "metadata": {},
   "source": [
    "check if it works on simulated data"
   ]
  },
  {
   "cell_type": "code",
   "execution_count": null,
   "metadata": {},
   "outputs": [],
   "source": [
    "set.seed(1953)\n",
    "r <- rstable(n = 1000, alpha = 1.9, beta = 0.3)\n",
    "\n",
    "objKout <- Estim(EstimMethod = \"Kout\", data = r, pm = 0,\n",
    "                         ComputeCov = FALSE, HandleError = FALSE,\n",
    "                         spacing = \"Kout\")\n",
    "objKout"
   ]
  },
  {
   "cell_type": "markdown",
   "metadata": {},
   "source": [
    "Now on real data"
   ]
  },
  {
   "cell_type": "code",
   "execution_count": null,
   "metadata": {},
   "outputs": [],
   "source": [
    "ret <- na.omit(SP500)\n",
    "\n",
    "objKout <- Estim(EstimMethod = \"Kout\", data = ret, pm = 0,\n",
    "                         ComputeCov = FALSE, HandleError = FALSE,\n",
    "                         spacing = \"Kout\")\n",
    "objKout"
   ]
  },
  {
   "cell_type": "code",
   "execution_count": null,
   "metadata": {},
   "outputs": [],
   "source": [
    "ret <- as.numeric(na.omit(SP500))\n",
    "\n",
    "objKout <- Estim(EstimMethod = \"Kout\", data = ret, pm = 0,\n",
    "                         ComputeCov = FALSE, HandleError = FALSE,\n",
    "                         spacing = \"Kout\")\n",
    "objKout"
   ]
  },
  {
   "cell_type": "code",
   "execution_count": null,
   "metadata": {},
   "outputs": [],
   "source": [
    "objKout@par[1]"
   ]
  },
  {
   "cell_type": "code",
   "execution_count": null,
   "metadata": {},
   "outputs": [],
   "source": [
    "#plot(ret, type = \"l\", main = \"stable: SP500\",col = \"steelblue\")\n",
    "hist(ret, n = 50, probability = TRUE, border = \"white\",\n",
    "     col = \"steelblue\")\n",
    "x <- seq(-0.1, 0.1, 0.001)\n",
    "m <- mean(na.omit(SP500))\n",
    "std <- sd(na.omit(SP500))\n",
    "lines(x, dstable(x, alpha = objKout@par[1], beta = objKout@par[2], \n",
    "    gamma=objKout@par[3], delta=objKout@par[4],tol= 1e-3), lwd = 2)\n",
    "lines(x, dnorm(x, mean = m, sd = std), lwd = 2, col = 'red')"
   ]
  },
  {
   "cell_type": "markdown",
   "metadata": {},
   "source": [
    "### Working with multiple time series\n",
    "\n",
    "I would like to load multiple symbols, and compute logarithmic returns. Then we will assess the time series graphically, compute the descriptive statistics and observe the histograms."
   ]
  },
  {
   "cell_type": "code",
   "execution_count": null,
   "metadata": {},
   "outputs": [],
   "source": [
    "symbols <- c('MSFT', 'AAPL', 'GOOG', 'AMZN', 'NFLX', 'TSLA')"
   ]
  },
  {
   "cell_type": "code",
   "execution_count": null,
   "metadata": {
    "tags": []
   },
   "outputs": [],
   "source": [
    "data <- list(getSymbols(symbols))"
   ]
  },
  {
   "cell_type": "code",
   "execution_count": null,
   "metadata": {},
   "outputs": [],
   "source": [
    "data"
   ]
  },
  {
   "cell_type": "markdown",
   "metadata": {},
   "source": [
    "Load the data into a list."
   ]
  },
  {
   "cell_type": "code",
   "execution_count": null,
   "metadata": {},
   "outputs": [],
   "source": [
    "data <- lapply(symbols, function(y){\n",
    "    getSymbols(y, auto.assign = FALSE)\n",
    "})"
   ]
  },
  {
   "cell_type": "code",
   "execution_count": null,
   "metadata": {},
   "outputs": [],
   "source": [
    "names(data) <- symbols"
   ]
  },
  {
   "cell_type": "code",
   "execution_count": null,
   "metadata": {},
   "outputs": [],
   "source": [
    "lapply(data, head)"
   ]
  },
  {
   "cell_type": "code",
   "execution_count": null,
   "metadata": {},
   "outputs": [],
   "source": [
    "head(data$TSLA)"
   ]
  },
  {
   "cell_type": "markdown",
   "metadata": {},
   "source": [
    "Data since the start of 2015"
   ]
  },
  {
   "cell_type": "code",
   "execution_count": null,
   "metadata": {},
   "outputs": [],
   "source": [
    "data <- lapply(symbols, function(y){\n",
    "    getSymbols(y, auto.assign = FALSE, from = as.Date('2015-01-01'), to = '2021-12-31')\n",
    "})"
   ]
  },
  {
   "cell_type": "code",
   "execution_count": null,
   "metadata": {},
   "outputs": [],
   "source": [
    "head(data[[1]])\n",
    "tail(data[[1]])"
   ]
  },
  {
   "cell_type": "code",
   "execution_count": null,
   "metadata": {},
   "outputs": [],
   "source": [
    "cols <- lapply(data, function(y){\n",
    "    colnames(y)[4]\n",
    "})"
   ]
  },
  {
   "cell_type": "code",
   "execution_count": null,
   "metadata": {},
   "outputs": [],
   "source": [
    "cols"
   ]
  },
  {
   "cell_type": "code",
   "execution_count": null,
   "metadata": {},
   "outputs": [],
   "source": [
    "data <- lapply(data, function(y){\n",
    "    y <- y[, 4]\n",
    "})"
   ]
  },
  {
   "cell_type": "code",
   "execution_count": null,
   "metadata": {},
   "outputs": [],
   "source": [
    "lapply(data, head)"
   ]
  },
  {
   "cell_type": "markdown",
   "metadata": {},
   "source": [
    "Discard all the columns but the closing price."
   ]
  },
  {
   "cell_type": "code",
   "execution_count": null,
   "metadata": {},
   "outputs": [],
   "source": [
    "paste0(symbols, '.Close')"
   ]
  },
  {
   "cell_type": "code",
   "execution_count": null,
   "metadata": {},
   "outputs": [],
   "source": [
    "names(data) <- symbols\n",
    "data <- lapply(names(data), function(y){\n",
    "    data[[y]] <- data[[y]][, paste0(y, '.Close')]\n",
    "})"
   ]
  },
  {
   "cell_type": "code",
   "execution_count": null,
   "metadata": {},
   "outputs": [],
   "source": [
    "lapply(data, head)"
   ]
  },
  {
   "cell_type": "code",
   "execution_count": null,
   "metadata": {},
   "outputs": [],
   "source": [
    "data <- lapply(data, function(y){\n",
    "  y <- na.omit(diff(log(y)))  \n",
    "})"
   ]
  },
  {
   "cell_type": "code",
   "execution_count": null,
   "metadata": {},
   "outputs": [],
   "source": [
    "lapply(data, head)"
   ]
  },
  {
   "cell_type": "code",
   "execution_count": null,
   "metadata": {},
   "outputs": [],
   "source": [
    "sapply(data, plot)"
   ]
  },
  {
   "cell_type": "code",
   "execution_count": null,
   "metadata": {},
   "outputs": [],
   "source": [
    "options(repr.plot.width = 15, repr.plot.height = 15)"
   ]
  },
  {
   "cell_type": "code",
   "execution_count": null,
   "metadata": {},
   "outputs": [],
   "source": [
    "par(mfrow = c(2, 3))\n",
    "sapply(data, function(y){\n",
    "    plot(as.Date(index(y)), y, type = 'l', xlab = 'Year',\n",
    "     ylab = 'returns')\n",
    "})"
   ]
  },
  {
   "cell_type": "markdown",
   "metadata": {},
   "source": [
    "For most application in financial econometrics it is important to have data with matching timmestamps. First, we will find the dates that are common for all the symbols."
   ]
  },
  {
   "cell_type": "code",
   "execution_count": null,
   "metadata": {},
   "outputs": [],
   "source": [
    "dates <- index(data[[1]])\n",
    "length(dates)\n",
    "for (i in 2:length(data)){\n",
    "    dates <- index(data[[i]])[index(data[[i]]) %in% dates]\n",
    "}"
   ]
  },
  {
   "cell_type": "markdown",
   "metadata": {},
   "source": [
    "Check if this works correctly."
   ]
  },
  {
   "cell_type": "code",
   "execution_count": null,
   "metadata": {},
   "outputs": [],
   "source": [
    "length(dates)"
   ]
  },
  {
   "cell_type": "code",
   "execution_count": null,
   "metadata": {},
   "outputs": [],
   "source": [
    "data <- lapply(data, function(y){\n",
    "    y[index(y) %in% dates]\n",
    "    })"
   ]
  },
  {
   "cell_type": "markdown",
   "metadata": {},
   "source": [
    "Check the lenghts."
   ]
  },
  {
   "cell_type": "code",
   "execution_count": null,
   "metadata": {
    "tags": []
   },
   "outputs": [],
   "source": [
    "lapply(data, nrow)"
   ]
  },
  {
   "cell_type": "markdown",
   "metadata": {},
   "source": [
    "Check randomly if the observations are matching."
   ]
  },
  {
   "cell_type": "code",
   "execution_count": null,
   "metadata": {},
   "outputs": [],
   "source": [
    "lapply(data, function(y){\n",
    "    y[1459]\n",
    "})"
   ]
  },
  {
   "cell_type": "markdown",
   "metadata": {},
   "source": [
    "Compute the summary statistics (we compute mean, standard deviation, minimum and maximum)."
   ]
  },
  {
   "cell_type": "code",
   "execution_count": null,
   "metadata": {},
   "outputs": [],
   "source": [
    "stats <- lapply(data, function(y){\n",
    "    c(mean(y), sd(y), min(y), max(y))\n",
    "})"
   ]
  },
  {
   "cell_type": "code",
   "execution_count": null,
   "metadata": {},
   "outputs": [],
   "source": [
    "stats"
   ]
  },
  {
   "cell_type": "code",
   "execution_count": null,
   "metadata": {},
   "outputs": [],
   "source": [
    "stats <- sapply(stats, function(y){\n",
    "    round(y, 4)\n",
    "    })"
   ]
  },
  {
   "cell_type": "code",
   "execution_count": null,
   "metadata": {},
   "outputs": [],
   "source": [
    "rownames(stats) <- c('mean', 'sd', 'min', 'max')\n",
    "colnames(stats) <- symbols"
   ]
  },
  {
   "cell_type": "code",
   "execution_count": null,
   "metadata": {},
   "outputs": [],
   "source": [
    "t(stats)"
   ]
  },
  {
   "cell_type": "markdown",
   "metadata": {},
   "source": [
    "And observe the histograms."
   ]
  },
  {
   "cell_type": "code",
   "execution_count": null,
   "metadata": {},
   "outputs": [],
   "source": [
    "par(mfrow = c(2, 3))\n",
    "sapply(data, function(y){\n",
    "hist(y, 50, prob = TRUE)\n",
    "x <- seq(-.1, .1 , 0.001)\n",
    "lines(x, dnorm(x, mean = mean(y), sd = sd(y)), lwd = 2, col = 'darkblue')\n",
    "    })"
   ]
  },
  {
   "cell_type": "markdown",
   "metadata": {},
   "source": [
    "Lastly, we will compute the cross-sectional mean for each date."
   ]
  },
  {
   "cell_type": "code",
   "execution_count": null,
   "metadata": {},
   "outputs": [],
   "source": [
    "sapply(data, '[[', 2)"
   ]
  },
  {
   "cell_type": "code",
   "execution_count": null,
   "metadata": {},
   "outputs": [],
   "source": [
    "lapply(data, head)"
   ]
  },
  {
   "cell_type": "code",
   "execution_count": null,
   "metadata": {},
   "outputs": [],
   "source": [
    "mean(sapply(data, '[[', 1))"
   ]
  },
  {
   "cell_type": "code",
   "execution_count": null,
   "metadata": {},
   "outputs": [],
   "source": [
    "mean(c(data[[1]][1], data[[2]][1], data[[3]][1], data[[4]][1], data[[5]][1], data[[6]][1]))"
   ]
  },
  {
   "cell_type": "code",
   "execution_count": null,
   "metadata": {},
   "outputs": [],
   "source": [
    "T <- nrow(data[[1]])"
   ]
  },
  {
   "cell_type": "code",
   "execution_count": null,
   "metadata": {},
   "outputs": [],
   "source": [
    "data[[1]][1]"
   ]
  },
  {
   "cell_type": "code",
   "execution_count": null,
   "metadata": {},
   "outputs": [],
   "source": [
    "plot(sapply(1:T, function(y){\n",
    "   mean(sapply(data, '[[', y)) \n",
    "}), type = 'l')"
   ]
  },
  {
   "cell_type": "code",
   "execution_count": null,
   "metadata": {},
   "outputs": [],
   "source": [
    "stockSymbols(exchange = 'NASDAQ')"
   ]
  },
  {
   "cell_type": "markdown",
   "metadata": {},
   "source": [
    "Loading a csv table into R."
   ]
  },
  {
   "cell_type": "code",
   "execution_count": null,
   "metadata": {},
   "outputs": [],
   "source": [
    "smbs <- read.csv('symbols.csv', sep = ';', colClasses = 'character')"
   ]
  },
  {
   "cell_type": "code",
   "execution_count": null,
   "metadata": {},
   "outputs": [],
   "source": [
    "head(smbs)"
   ]
  },
  {
   "cell_type": "code",
   "execution_count": null,
   "metadata": {},
   "outputs": [],
   "source": [
    "symbols <- smbs[smbs['Sector'] == 'Health Care', 1]"
   ]
  },
  {
   "cell_type": "code",
   "execution_count": null,
   "metadata": {},
   "outputs": [],
   "source": [
    "symbols"
   ]
  },
  {
   "cell_type": "code",
   "execution_count": null,
   "metadata": {},
   "outputs": [],
   "source": []
  }
 ],
 "metadata": {
  "kernelspec": {
   "display_name": "R",
   "language": "R",
   "name": "ir"
  },
  "language_info": {
   "codemirror_mode": "r",
   "file_extension": ".r",
   "mimetype": "text/x-r-source",
   "name": "R",
   "pygments_lexer": "r",
   "version": "3.6.0"
  }
 },
 "nbformat": 4,
 "nbformat_minor": 4
}
